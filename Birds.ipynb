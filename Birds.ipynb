{
 "cells": [
  {
   "cell_type": "code",
   "execution_count": 17,
   "metadata": {
    "collapsed": true
   },
   "outputs": [],
   "source": [
    "import numpy as np\n",
    "import pandas as pd\n",
    "import matplotlib.pyplot as plt\n",
    "import seaborn as sns\n",
    "\n",
    "sns.set()\n",
    "%matplotlib inline"
   ]
  },
  {
   "cell_type": "code",
   "execution_count": 18,
   "metadata": {},
   "outputs": [
    {
     "data": {
      "text/html": [
       "<div>\n",
       "<style>\n",
       "    .dataframe thead tr:only-child th {\n",
       "        text-align: right;\n",
       "    }\n",
       "\n",
       "    .dataframe thead th {\n",
       "        text-align: left;\n",
       "    }\n",
       "\n",
       "    .dataframe tbody tr th {\n",
       "        vertical-align: top;\n",
       "    }\n",
       "</style>\n",
       "<table border=\"1\" class=\"dataframe\">\n",
       "  <thead>\n",
       "    <tr style=\"text-align: right;\">\n",
       "      <th></th>\n",
       "      <th>Chart Number</th>\n",
       "      <th>Bird Species</th>\n",
       "      <th>Admission Date</th>\n",
       "      <th>When Captured</th>\n",
       "      <th>Age</th>\n",
       "      <th>Sex</th>\n",
       "      <th>Address - Captured</th>\n",
       "      <th>City - Captured</th>\n",
       "      <th>Injury Cause</th>\n",
       "      <th>Status</th>\n",
       "    </tr>\n",
       "  </thead>\n",
       "  <tbody>\n",
       "    <tr>\n",
       "      <th>count</th>\n",
       "      <td>2831</td>\n",
       "      <td>2831</td>\n",
       "      <td>2831</td>\n",
       "      <td>2831</td>\n",
       "      <td>2831</td>\n",
       "      <td>2831</td>\n",
       "      <td>2659</td>\n",
       "      <td>2817</td>\n",
       "      <td>2829</td>\n",
       "      <td>2831</td>\n",
       "    </tr>\n",
       "    <tr>\n",
       "      <th>unique</th>\n",
       "      <td>2831</td>\n",
       "      <td>143</td>\n",
       "      <td>294</td>\n",
       "      <td>2064</td>\n",
       "      <td>7</td>\n",
       "      <td>3</td>\n",
       "      <td>2122</td>\n",
       "      <td>153</td>\n",
       "      <td>25</td>\n",
       "      <td>13</td>\n",
       "    </tr>\n",
       "    <tr>\n",
       "      <th>top</th>\n",
       "      <td>2016-09404</td>\n",
       "      <td>Mallard</td>\n",
       "      <td>2016-09-29 00:00:00</td>\n",
       "      <td>10/19/16</td>\n",
       "      <td>A</td>\n",
       "      <td>UNK</td>\n",
       "      <td>PO Box 7178</td>\n",
       "      <td>Chicago</td>\n",
       "      <td>Collision - building</td>\n",
       "      <td>Released</td>\n",
       "    </tr>\n",
       "    <tr>\n",
       "      <th>freq</th>\n",
       "      <td>1</td>\n",
       "      <td>198</td>\n",
       "      <td>126</td>\n",
       "      <td>39</td>\n",
       "      <td>1346</td>\n",
       "      <td>2206</td>\n",
       "      <td>49</td>\n",
       "      <td>2291</td>\n",
       "      <td>1777</td>\n",
       "      <td>1893</td>\n",
       "    </tr>\n",
       "    <tr>\n",
       "      <th>first</th>\n",
       "      <td>NaN</td>\n",
       "      <td>NaN</td>\n",
       "      <td>2016-01-02 00:00:00</td>\n",
       "      <td>NaN</td>\n",
       "      <td>NaN</td>\n",
       "      <td>NaN</td>\n",
       "      <td>NaN</td>\n",
       "      <td>NaN</td>\n",
       "      <td>NaN</td>\n",
       "      <td>NaN</td>\n",
       "    </tr>\n",
       "    <tr>\n",
       "      <th>last</th>\n",
       "      <td>NaN</td>\n",
       "      <td>NaN</td>\n",
       "      <td>2016-12-30 00:00:00</td>\n",
       "      <td>NaN</td>\n",
       "      <td>NaN</td>\n",
       "      <td>NaN</td>\n",
       "      <td>NaN</td>\n",
       "      <td>NaN</td>\n",
       "      <td>NaN</td>\n",
       "      <td>NaN</td>\n",
       "    </tr>\n",
       "  </tbody>\n",
       "</table>\n",
       "</div>"
      ],
      "text/plain": [
       "       Chart Number Bird Species       Admission Date When Captured   Age  \\\n",
       "count          2831         2831                 2831          2831  2831   \n",
       "unique         2831          143                  294          2064     7   \n",
       "top      2016-09404      Mallard  2016-09-29 00:00:00      10/19/16     A   \n",
       "freq              1          198                  126            39  1346   \n",
       "first           NaN          NaN  2016-01-02 00:00:00           NaN   NaN   \n",
       "last            NaN          NaN  2016-12-30 00:00:00           NaN   NaN   \n",
       "\n",
       "         Sex Address - Captured City - Captured          Injury Cause  \\\n",
       "count   2831               2659            2817                  2829   \n",
       "unique     3               2122             153                    25   \n",
       "top      UNK        PO Box 7178         Chicago  Collision - building   \n",
       "freq    2206                 49            2291                  1777   \n",
       "first    NaN                NaN             NaN                   NaN   \n",
       "last     NaN                NaN             NaN                   NaN   \n",
       "\n",
       "          Status  \n",
       "count       2831  \n",
       "unique        13  \n",
       "top     Released  \n",
       "freq        1893  \n",
       "first        NaN  \n",
       "last         NaN  "
      ]
     },
     "execution_count": 18,
     "metadata": {},
     "output_type": "execute_result"
    }
   ],
   "source": [
    "bird_data = pd.read_csv('data/2016_CBCM_birds_willowbrook.csv', parse_dates = [2])\n",
    "bird_data.describe()"
   ]
  },
  {
   "cell_type": "code",
   "execution_count": 27,
   "metadata": {},
   "outputs": [
    {
     "data": {
      "image/png": "[encoded data removed]",
      "text/plain": [
       "<matplotlib.figure.Figure at 0x1a143d6550>"
      ]
     },
     "metadata": {},
     "output_type": "display_data"
    }
   ],
   "source": [
    "fig, ax = plt.subplots(figsize=(8, 6))\n",
    "bird_data['Admission Date']\n",
    "bird_data['Chart Number'].groupby(bird_data[\"Admission Date\"].dt.month).count().plot(kind=\"bar\")\n",
    "ax.set_xlabel('Date [by month]')\n",
    "plt.legend(['Number of Birds'], loc='best')\n",
    "plt.show()"
   ]
  },
  {
   "cell_type": "code",
   "execution_count": null,
   "metadata": {
    "collapsed": true
   },
   "outputs": [],
   "source": []
  }
 ],
 "metadata": {
  "kernelspec": {
   "display_name": "Python 2",
   "language": "python",
   "name": "python2"
  },
  "language_info": {
   "codemirror_mode": {
    "name": "ipython",
    "version": 2
   },
   "file_extension": ".py",
   "mimetype": "text/x-python",
   "name": "python",
   "nbconvert_exporter": "python",
   "pygments_lexer": "ipython2",
   "version": "2.7.14"
  }
 },
 "nbformat": 4,
 "nbformat_minor": 2
}
