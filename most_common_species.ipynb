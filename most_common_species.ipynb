{
 "cells": [
  {
   "cell_type": "code",
   "execution_count": 29,
   "metadata": {},
   "outputs": [
    {
     "data": {
      "text/plain": [
       "Bird Species\n",
       "Alder Flycatcher              1\n",
       "Eastern Bluebird              1\n",
       "Eastern Phoebe                1\n",
       "Eastern Wood Pewee            1\n",
       "Golden-winged Warbler         1\n",
       "Great Blue Heron              1\n",
       "Grey-cheeked Thrush           1\n",
       "Hairy woodpecker              1\n",
       "Herring Gull                  1\n",
       "Least Flycatcher              1\n",
       "Common Nighthawk              1\n",
       "Long-eared Owl                1\n",
       "Peregrine Falcon              1\n",
       "Pigeon                        1\n",
       "Pine Warbler                  1\n",
       "Purple Finch                  1\n",
       "Purple Gallinule              1\n",
       "Red-headed Woodpecker         1\n",
       "Sharp-shinned Hawk            1\n",
       "Snowy Owl                     1\n",
       "Wilson's Snipe                1\n",
       "Northern Parula               1\n",
       "Cerulean Warbler              1\n",
       "Yellow-throated Vireo         1\n",
       "Barn Swallow                  1\n",
       "American Coot                 1\n",
       "Blue-winged Warbler           1\n",
       "Blue-Gray Gnatcatcher         1\n",
       "Blue-headed Vireo             1\n",
       "Black-billed Cuckoo           1\n",
       "                           ... \n",
       "Black-and-White Warbler      12\n",
       "Wood Thrush                  13\n",
       "Chestnut-sided Warbler       14\n",
       "Bay-breasted Warbler         14\n",
       "Sora                         14\n",
       "Palm Warbler                 15\n",
       "Mouring Dove                 16\n",
       "Ruby-crowned Kinglet         17\n",
       "Northern Waterthrush         18\n",
       "Lincoln's Sparrow            18\n",
       "American Robin               22\n",
       "Swamp Sparrow                24\n",
       "Winter Wren                  26\n",
       "Virginia Rail                27\n",
       "Magnolia Warbler             30\n",
       "Swainson's Thrush            34\n",
       "Blackpoll Warbler            39\n",
       "Cedar Waxwing                40\n",
       "Tennessee Warbler            44\n",
       "Nashville Warbler            49\n",
       "Yellow-shafted Flicker       53\n",
       "Common Yellowthroat          60\n",
       "Hermit Thrush                73\n",
       "Slate-colored Junco          73\n",
       "Golden-crowned Kinglet       82\n",
       "American Woodcock            94\n",
       "Yellow-bellied Sapsucker    112\n",
       "Ovenbird                    153\n",
       "White-throated Sparrow      178\n",
       "Brown Creeper               188\n",
       "Name: Chart Number, Length: 116, dtype: int64"
      ]
     },
     "execution_count": 29,
     "metadata": {},
     "output_type": "execute_result"
    }
   ],
   "source": [
    "import numpy as np\n",
    "import pandas as pd\n",
    "import matplotlib.pyplot as plt\n",
    "import seaborn as sns\n",
    "\n",
    "sns.set()\n",
    "%matplotlib inline\n",
    "\n",
    "def strip(s):\n",
    "    return s.strip();\n",
    "\n",
    "bird_data = pd.read_csv('data/2016_CBCM_birds_willowbrook.csv', parse_dates = [2])\n",
    "bird_data[\"Bird Species\"] = bird_data[\"Bird Species\"].apply(strip)\n",
    "\n",
    "bird_data.describe()\n",
    "\n",
    "collision_values = [\"Collision - building\", \"Collision - window\", \"Collision - car\", \"Collision - other\"]\n",
    "row_mask = bird_data.isin(collision_values)[\"Injury Cause\"]\n",
    "collision_data = bird_data[row_mask]\n",
    "\n",
    "collision_data['Chart Number'].groupby(collision_data[\"Bird Species\"]).count().sort_values()"
   ]
  },
  {
   "cell_type": "code",
   "execution_count": null,
   "metadata": {
    "collapsed": true
   },
   "outputs": [],
   "source": []
  }
 ],
 "metadata": {
  "kernelspec": {
   "display_name": "Python 2",
   "language": "python",
   "name": "python2"
  },
  "language_info": {
   "codemirror_mode": {
    "name": "ipython",
    "version": 2
   },
   "file_extension": ".py",
   "mimetype": "text/x-python",
   "name": "python",
   "nbconvert_exporter": "python",
   "pygments_lexer": "ipython2",
   "version": "2.7.14"
  }
 },
 "nbformat": 4,
 "nbformat_minor": 2
}
